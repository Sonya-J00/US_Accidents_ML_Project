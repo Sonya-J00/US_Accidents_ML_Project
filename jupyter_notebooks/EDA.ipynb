{
  "cells": [
    {
      "cell_type": "markdown",
      "metadata": {
        "id": "0aStgWSO0E0E"
      },
      "source": [
        "# **EDA**"
      ]
    },
    {
      "cell_type": "markdown",
      "metadata": {
        "id": "1eLEkw5O0ECa"
      },
      "source": [
        "## Objectives\n",
        "\n",
        "* Describe the data using basic statistics\n",
        "* Use visualisations to explore the distribution, skew and kurtosis of numerical varaibles\n",
        "* Use bar charts to explore the distribution of categorical variables\n",
        "* Compare median clearance time of categorical variables \n",
        "* Compute statistical significance between variables of interest\n",
        "* Use a correlation matrix to explore relationships \n",
        "\n",
        "## Inputs\n",
        "\n",
        "* The dataset, \"US_Accidents_For_EDA.csv\", saved locally in \"Data/EDA\"\n",
        "\n",
        "## Outputs\n",
        "\n",
        "* The dataset, \"US_Accidents_For_ML.csv\", saved locally in \"Data/ML\" \n",
        "\n",
        "## Summary of Steps\n",
        "\n",
        "* Load the dataset\n",
        "* \n",
        "\n"
      ]
    },
    {
      "cell_type": "markdown",
      "metadata": {
        "id": "9uWZXH9LwoQg"
      },
      "source": [
        "---"
      ]
    },
    {
      "cell_type": "markdown",
      "metadata": {
        "id": "cqP-UeN-z3i2"
      },
      "source": [
        "# Change working directory"
      ]
    },
    {
      "cell_type": "markdown",
      "metadata": {},
      "source": [
        "* We are assuming you will store the notebooks in a subfolder, therefore when running the notebook in the editor, you will need to change the working directory"
      ]
    },
    {
      "cell_type": "markdown",
      "metadata": {
        "id": "aOGIGS-uz3i2"
      },
      "source": [
        "We need to change the working directory from its current folder to its parent folder\n",
        "* We access the current directory with os.getcwd()"
      ]
    },
    {
      "cell_type": "code",
      "execution_count": 1,
      "metadata": {
        "id": "wZfF_j-Bz3i4",
        "outputId": "66943449-1436-4c3d-85c7-b85f9f78349b"
      },
      "outputs": [
        {
          "data": {
            "text/plain": [
              "'c:\\\\Users\\\\sonia\\\\Documents\\\\VS Studio Projects\\\\US_Accidents_ML_Project\\\\jupyter_notebooks'"
            ]
          },
          "execution_count": 1,
          "metadata": {},
          "output_type": "execute_result"
        }
      ],
      "source": [
        "import os\n",
        "current_dir = os.getcwd()\n",
        "current_dir"
      ]
    },
    {
      "cell_type": "markdown",
      "metadata": {
        "id": "9MWW8E7lz3i7"
      },
      "source": [
        "We want to make the parent of the current directory the new current directory\n",
        "* os.path.dirname() gets the parent directory\n",
        "* os.chir() defines the new current directory"
      ]
    },
    {
      "cell_type": "code",
      "execution_count": 2,
      "metadata": {
        "id": "TwHsQRWjz3i9",
        "outputId": "86849db3-cd2f-4cc5-ebb8-2d0caafa1a2c"
      },
      "outputs": [
        {
          "name": "stdout",
          "output_type": "stream",
          "text": [
            "You set a new current directory\n"
          ]
        }
      ],
      "source": [
        "os.chdir(os.path.dirname(current_dir))\n",
        "print(\"You set a new current directory\")"
      ]
    },
    {
      "cell_type": "markdown",
      "metadata": {
        "id": "M_xPk_Ijz3i-"
      },
      "source": [
        "Confirm the new current directory"
      ]
    },
    {
      "cell_type": "code",
      "execution_count": 3,
      "metadata": {
        "id": "vz3S-_kjz3jA",
        "outputId": "00b79ae4-75d0-4a96-d193-ac9ef9847ea2"
      },
      "outputs": [
        {
          "data": {
            "text/plain": [
              "'c:\\\\Users\\\\sonia\\\\Documents\\\\VS Studio Projects\\\\US_Accidents_ML_Project'"
            ]
          },
          "execution_count": 3,
          "metadata": {},
          "output_type": "execute_result"
        }
      ],
      "source": [
        "current_dir = os.getcwd()\n",
        "current_dir"
      ]
    },
    {
      "cell_type": "markdown",
      "metadata": {},
      "source": [
        "---"
      ]
    },
    {
      "cell_type": "markdown",
      "metadata": {
        "id": "-mavJ8DibrcQ"
      },
      "source": [
        "## Required Libraries"
      ]
    },
    {
      "cell_type": "code",
      "execution_count": 4,
      "metadata": {},
      "outputs": [],
      "source": [
        "import pandas as pd\n",
        "import numpy as np\n",
        "import matplotlib.pyplot as plt\n",
        "import seaborn as sns\n",
        "import plotly.express as px\n",
        "from feature_engine import transformation as vt\n",
        "from statsmodels.graphics.gofplots import qqplot\n",
        "import pingouin as pg\n",
        "import math"
      ]
    },
    {
      "cell_type": "markdown",
      "metadata": {
        "id": "ZY3l0-AxO93d"
      },
      "source": [
        "---"
      ]
    },
    {
      "cell_type": "markdown",
      "metadata": {
        "id": "uFQo3ycuO-v6"
      },
      "source": [
        "## Load the Dataset"
      ]
    },
    {
      "cell_type": "markdown",
      "metadata": {},
      "source": [
        "I will use Pandas to open the csv file."
      ]
    },
    {
      "cell_type": "code",
      "execution_count": 5,
      "metadata": {},
      "outputs": [
        {
          "data": {
            "text/html": [
              "<div>\n",
              "<style scoped>\n",
              "    .dataframe tbody tr th:only-of-type {\n",
              "        vertical-align: middle;\n",
              "    }\n",
              "\n",
              "    .dataframe tbody tr th {\n",
              "        vertical-align: top;\n",
              "    }\n",
              "\n",
              "    .dataframe thead th {\n",
              "        text-align: right;\n",
              "    }\n",
              "</style>\n",
              "<table border=\"1\" class=\"dataframe\">\n",
              "  <thead>\n",
              "    <tr style=\"text-align: right;\">\n",
              "      <th></th>\n",
              "      <th>Severity</th>\n",
              "      <th>Start_Lat</th>\n",
              "      <th>Start_Lng</th>\n",
              "      <th>Distance(mi)</th>\n",
              "      <th>Timezone</th>\n",
              "      <th>Temperature(F)</th>\n",
              "      <th>Wind_Chill(F)</th>\n",
              "      <th>Humidity(%)</th>\n",
              "      <th>Pressure(in)</th>\n",
              "      <th>Visibility(mi)</th>\n",
              "      <th>Wind_Direction</th>\n",
              "      <th>Wind_Speed(mph)</th>\n",
              "      <th>Precipitation(in)</th>\n",
              "      <th>Amenity</th>\n",
              "      <th>Bump</th>\n",
              "      <th>Crossing</th>\n",
              "      <th>Give_Way</th>\n",
              "      <th>Junction</th>\n",
              "      <th>No_Exit</th>\n",
              "      <th>Railway</th>\n",
              "      <th>Station</th>\n",
              "      <th>Stop</th>\n",
              "      <th>Traffic_Calming</th>\n",
              "      <th>Traffic_Signal</th>\n",
              "      <th>Sunrise_Sunset</th>\n",
              "      <th>Clearance_Time(hr)</th>\n",
              "      <th>Clearance_Class</th>\n",
              "      <th>Weather_Simplified</th>\n",
              "      <th>State_Other</th>\n",
              "      <th>Population</th>\n",
              "      <th>County_Other</th>\n",
              "      <th>Month</th>\n",
              "    </tr>\n",
              "  </thead>\n",
              "  <tbody>\n",
              "    <tr>\n",
              "      <th>0</th>\n",
              "      <td>2</td>\n",
              "      <td>32.456486</td>\n",
              "      <td>-93.774536</td>\n",
              "      <td>0.501</td>\n",
              "      <td>Central</td>\n",
              "      <td>78.0</td>\n",
              "      <td>78.0</td>\n",
              "      <td>62.0</td>\n",
              "      <td>29.61</td>\n",
              "      <td>10.0</td>\n",
              "      <td>CALM</td>\n",
              "      <td>0.0</td>\n",
              "      <td>0.0</td>\n",
              "      <td>False</td>\n",
              "      <td>False</td>\n",
              "      <td>False</td>\n",
              "      <td>False</td>\n",
              "      <td>False</td>\n",
              "      <td>False</td>\n",
              "      <td>False</td>\n",
              "      <td>False</td>\n",
              "      <td>False</td>\n",
              "      <td>False</td>\n",
              "      <td>False</td>\n",
              "      <td>Night</td>\n",
              "      <td>26.205833</td>\n",
              "      <td>Very Long</td>\n",
              "      <td>Fair</td>\n",
              "      <td>LA</td>\n",
              "      <td>187540</td>\n",
              "      <td>Caddo</td>\n",
              "      <td>Sep</td>\n",
              "    </tr>\n",
              "    <tr>\n",
              "      <th>1</th>\n",
              "      <td>2</td>\n",
              "      <td>36.804693</td>\n",
              "      <td>-76.189728</td>\n",
              "      <td>0.253</td>\n",
              "      <td>Eastern</td>\n",
              "      <td>54.0</td>\n",
              "      <td>54.0</td>\n",
              "      <td>90.0</td>\n",
              "      <td>30.40</td>\n",
              "      <td>7.0</td>\n",
              "      <td>CALM</td>\n",
              "      <td>0.0</td>\n",
              "      <td>0.0</td>\n",
              "      <td>False</td>\n",
              "      <td>False</td>\n",
              "      <td>True</td>\n",
              "      <td>False</td>\n",
              "      <td>False</td>\n",
              "      <td>False</td>\n",
              "      <td>False</td>\n",
              "      <td>False</td>\n",
              "      <td>False</td>\n",
              "      <td>False</td>\n",
              "      <td>True</td>\n",
              "      <td>Night</td>\n",
              "      <td>81.274444</td>\n",
              "      <td>Very Long</td>\n",
              "      <td>Fair</td>\n",
              "      <td>VA</td>\n",
              "      <td>459444</td>\n",
              "      <td>Virginia Beach</td>\n",
              "      <td>May</td>\n",
              "    </tr>\n",
              "    <tr>\n",
              "      <th>2</th>\n",
              "      <td>2</td>\n",
              "      <td>29.895741</td>\n",
              "      <td>-90.090026</td>\n",
              "      <td>1.154</td>\n",
              "      <td>Pacific</td>\n",
              "      <td>40.0</td>\n",
              "      <td>33.0</td>\n",
              "      <td>58.0</td>\n",
              "      <td>30.28</td>\n",
              "      <td>10.0</td>\n",
              "      <td>N</td>\n",
              "      <td>10.0</td>\n",
              "      <td>0.0</td>\n",
              "      <td>False</td>\n",
              "      <td>False</td>\n",
              "      <td>False</td>\n",
              "      <td>False</td>\n",
              "      <td>True</td>\n",
              "      <td>False</td>\n",
              "      <td>False</td>\n",
              "      <td>False</td>\n",
              "      <td>False</td>\n",
              "      <td>False</td>\n",
              "      <td>False</td>\n",
              "      <td>Day</td>\n",
              "      <td>8761.750000</td>\n",
              "      <td>Very Long</td>\n",
              "      <td>Cloudy</td>\n",
              "      <td>LA</td>\n",
              "      <td>440784</td>\n",
              "      <td>Jefferson</td>\n",
              "      <td>Jan</td>\n",
              "    </tr>\n",
              "    <tr>\n",
              "      <th>3</th>\n",
              "      <td>2</td>\n",
              "      <td>32.456459</td>\n",
              "      <td>-93.779709</td>\n",
              "      <td>0.016</td>\n",
              "      <td>Central</td>\n",
              "      <td>62.0</td>\n",
              "      <td>62.0</td>\n",
              "      <td>75.0</td>\n",
              "      <td>29.80</td>\n",
              "      <td>10.0</td>\n",
              "      <td>SSE</td>\n",
              "      <td>8.0</td>\n",
              "      <td>0.0</td>\n",
              "      <td>False</td>\n",
              "      <td>False</td>\n",
              "      <td>False</td>\n",
              "      <td>False</td>\n",
              "      <td>False</td>\n",
              "      <td>False</td>\n",
              "      <td>False</td>\n",
              "      <td>False</td>\n",
              "      <td>False</td>\n",
              "      <td>False</td>\n",
              "      <td>False</td>\n",
              "      <td>Night</td>\n",
              "      <td>28.096667</td>\n",
              "      <td>Very Long</td>\n",
              "      <td>Cloudy</td>\n",
              "      <td>LA</td>\n",
              "      <td>187540</td>\n",
              "      <td>Caddo</td>\n",
              "      <td>Nov</td>\n",
              "    </tr>\n",
              "    <tr>\n",
              "      <th>4</th>\n",
              "      <td>2</td>\n",
              "      <td>26.966433</td>\n",
              "      <td>-82.255414</td>\n",
              "      <td>0.057</td>\n",
              "      <td>Eastern</td>\n",
              "      <td>84.0</td>\n",
              "      <td>84.0</td>\n",
              "      <td>69.0</td>\n",
              "      <td>29.99</td>\n",
              "      <td>10.0</td>\n",
              "      <td>E</td>\n",
              "      <td>18.0</td>\n",
              "      <td>0.0</td>\n",
              "      <td>False</td>\n",
              "      <td>False</td>\n",
              "      <td>False</td>\n",
              "      <td>False</td>\n",
              "      <td>False</td>\n",
              "      <td>False</td>\n",
              "      <td>False</td>\n",
              "      <td>False</td>\n",
              "      <td>False</td>\n",
              "      <td>False</td>\n",
              "      <td>False</td>\n",
              "      <td>Day</td>\n",
              "      <td>27.260000</td>\n",
              "      <td>Very Long</td>\n",
              "      <td>Cloudy</td>\n",
              "      <td>FL</td>\n",
              "      <td>186824</td>\n",
              "      <td>Other</td>\n",
              "      <td>Sep</td>\n",
              "    </tr>\n",
              "  </tbody>\n",
              "</table>\n",
              "</div>"
            ],
            "text/plain": [
              "   Severity  Start_Lat  Start_Lng  Distance(mi) Timezone  Temperature(F)  \\\n",
              "0         2  32.456486 -93.774536         0.501  Central            78.0   \n",
              "1         2  36.804693 -76.189728         0.253  Eastern            54.0   \n",
              "2         2  29.895741 -90.090026         1.154  Pacific            40.0   \n",
              "3         2  32.456459 -93.779709         0.016  Central            62.0   \n",
              "4         2  26.966433 -82.255414         0.057  Eastern            84.0   \n",
              "\n",
              "   Wind_Chill(F)  Humidity(%)  Pressure(in)  Visibility(mi) Wind_Direction  \\\n",
              "0           78.0         62.0         29.61            10.0           CALM   \n",
              "1           54.0         90.0         30.40             7.0           CALM   \n",
              "2           33.0         58.0         30.28            10.0              N   \n",
              "3           62.0         75.0         29.80            10.0            SSE   \n",
              "4           84.0         69.0         29.99            10.0              E   \n",
              "\n",
              "   Wind_Speed(mph)  Precipitation(in)  Amenity   Bump  Crossing  Give_Way  \\\n",
              "0              0.0                0.0    False  False     False     False   \n",
              "1              0.0                0.0    False  False      True     False   \n",
              "2             10.0                0.0    False  False     False     False   \n",
              "3              8.0                0.0    False  False     False     False   \n",
              "4             18.0                0.0    False  False     False     False   \n",
              "\n",
              "   Junction  No_Exit  Railway  Station   Stop  Traffic_Calming  \\\n",
              "0     False    False    False    False  False            False   \n",
              "1     False    False    False    False  False            False   \n",
              "2      True    False    False    False  False            False   \n",
              "3     False    False    False    False  False            False   \n",
              "4     False    False    False    False  False            False   \n",
              "\n",
              "   Traffic_Signal Sunrise_Sunset  Clearance_Time(hr) Clearance_Class  \\\n",
              "0           False          Night           26.205833       Very Long   \n",
              "1            True          Night           81.274444       Very Long   \n",
              "2           False            Day         8761.750000       Very Long   \n",
              "3           False          Night           28.096667       Very Long   \n",
              "4           False            Day           27.260000       Very Long   \n",
              "\n",
              "  Weather_Simplified State_Other  Population    County_Other Month  \n",
              "0               Fair          LA      187540           Caddo   Sep  \n",
              "1               Fair          VA      459444  Virginia Beach   May  \n",
              "2             Cloudy          LA      440784       Jefferson   Jan  \n",
              "3             Cloudy          LA      187540           Caddo   Nov  \n",
              "4             Cloudy          FL      186824           Other   Sep  "
            ]
          },
          "execution_count": 5,
          "metadata": {},
          "output_type": "execute_result"
        }
      ],
      "source": [
        "df = pd.read_csv(\"Data/EDA/US_Accidents_For_EDA.csv\")\n",
        "pd.set_option(\"display.max_columns\", None)\n",
        "df.head()"
      ]
    },
    {
      "cell_type": "markdown",
      "metadata": {},
      "source": [
        "For the purposes of EDA, I am going to treat the variable \"Severity\" as categorical. It will be changed back to number at the end of this notebook."
      ]
    },
    {
      "cell_type": "code",
      "execution_count": 7,
      "metadata": {},
      "outputs": [
        {
          "data": {
            "text/plain": [
              "dtype('int64')"
            ]
          },
          "execution_count": 7,
          "metadata": {},
          "output_type": "execute_result"
        }
      ],
      "source": [
        "df[\"Severity\"].astype(\"int\")\n",
        "df[\"Severity\"].dtype"
      ]
    },
    {
      "cell_type": "markdown",
      "metadata": {},
      "source": [
        "---"
      ]
    },
    {
      "cell_type": "markdown",
      "metadata": {},
      "source": [
        "NOTE"
      ]
    },
    {
      "cell_type": "markdown",
      "metadata": {},
      "source": [
        "* You may add as many sections as you want, as long as it supports your project workflow.\n",
        "* All notebook's cells should be run top-down (you can't create a dynamic wherein a given point you need to go back to a previous cell to execute some task, like go back to a previous cell and refresh a variable content)"
      ]
    },
    {
      "cell_type": "markdown",
      "metadata": {},
      "source": [
        "---"
      ]
    },
    {
      "cell_type": "markdown",
      "metadata": {
        "id": "ltNetd085qHf"
      },
      "source": [
        "# Push files to Repo"
      ]
    },
    {
      "cell_type": "markdown",
      "metadata": {},
      "source": [
        "* In cases where you don't need to push files to Repo, you may replace this section with \"Conclusions and Next Steps\" and state your conclusions and next steps."
      ]
    }
  ],
  "metadata": {
    "accelerator": "GPU",
    "colab": {
      "name": "Data Practitioner Jupyter Notebook.ipynb",
      "provenance": [],
      "toc_visible": true
    },
    "kernelspec": {
      "display_name": ".venv (3.12.8)",
      "language": "python",
      "name": "python3"
    },
    "language_info": {
      "codemirror_mode": {
        "name": "ipython",
        "version": 3
      },
      "file_extension": ".py",
      "mimetype": "text/x-python",
      "name": "python",
      "nbconvert_exporter": "python",
      "pygments_lexer": "ipython3",
      "version": "3.12.8"
    },
    "orig_nbformat": 2
  },
  "nbformat": 4,
  "nbformat_minor": 2
}
