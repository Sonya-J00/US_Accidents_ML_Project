{
  "cells": [
    {
      "cell_type": "markdown",
      "metadata": {
        "id": "0aStgWSO0E0E"
      },
      "source": [
        "# **Subsampling the Dataset**"
      ]
    },
    {
      "cell_type": "markdown",
      "metadata": {
        "id": "1eLEkw5O0ECa"
      },
      "source": [
        "## Objectives\n",
        "\n",
        "* To subsample the data to obtain a dataset of ~10,000 instances with balanced classes of the target\n",
        "\n",
        "## Inputs\n",
        "\n",
        "* The cleaned dataset, \"US_Accidents_For_Subsampling.csv\", which is saved locally in \"Data/Cleaned\"\n",
        "\n",
        "## Outputs\n",
        "\n",
        "* The subsampled csv file \"US_Accidents_For_Feature_Eng.csv\"\n",
        "\n",
        "## Steps Carried Out\n",
        "\n",
        "* If you have any additional comments that don't fit in the previous bullets, please state them here. \n",
        "\n"
      ]
    },
    {
      "cell_type": "markdown",
      "metadata": {
        "id": "9uWZXH9LwoQg"
      },
      "source": [
        "---"
      ]
    },
    {
      "cell_type": "markdown",
      "metadata": {
        "id": "cqP-UeN-z3i2"
      },
      "source": [
        "# Change working directory"
      ]
    },
    {
      "cell_type": "markdown",
      "metadata": {},
      "source": [
        "* We are assuming you will store the notebooks in a subfolder, therefore when running the notebook in the editor, you will need to change the working directory"
      ]
    },
    {
      "cell_type": "markdown",
      "metadata": {
        "id": "aOGIGS-uz3i2"
      },
      "source": [
        "We need to change the working directory from its current folder to its parent folder\n",
        "* We access the current directory with os.getcwd()"
      ]
    },
    {
      "cell_type": "code",
      "execution_count": 1,
      "metadata": {
        "id": "wZfF_j-Bz3i4",
        "outputId": "66943449-1436-4c3d-85c7-b85f9f78349b"
      },
      "outputs": [
        {
          "data": {
            "text/plain": [
              "'c:\\\\Users\\\\sonia\\\\Documents\\\\VS Studio Projects\\\\US_Accidents_ML_Project\\\\jupyter_notebooks'"
            ]
          },
          "execution_count": 1,
          "metadata": {},
          "output_type": "execute_result"
        }
      ],
      "source": [
        "import os\n",
        "current_dir = os.getcwd()\n",
        "current_dir"
      ]
    },
    {
      "cell_type": "markdown",
      "metadata": {
        "id": "9MWW8E7lz3i7"
      },
      "source": [
        "We want to make the parent of the current directory the new current directory\n",
        "* os.path.dirname() gets the parent directory\n",
        "* os.chir() defines the new current directory"
      ]
    },
    {
      "cell_type": "code",
      "execution_count": 2,
      "metadata": {
        "id": "TwHsQRWjz3i9",
        "outputId": "86849db3-cd2f-4cc5-ebb8-2d0caafa1a2c"
      },
      "outputs": [
        {
          "name": "stdout",
          "output_type": "stream",
          "text": [
            "You set a new current directory\n"
          ]
        }
      ],
      "source": [
        "os.chdir(os.path.dirname(current_dir))\n",
        "print(\"You set a new current directory\")"
      ]
    },
    {
      "cell_type": "markdown",
      "metadata": {
        "id": "M_xPk_Ijz3i-"
      },
      "source": [
        "Confirm the new current directory"
      ]
    },
    {
      "cell_type": "code",
      "execution_count": 3,
      "metadata": {
        "id": "vz3S-_kjz3jA",
        "outputId": "00b79ae4-75d0-4a96-d193-ac9ef9847ea2"
      },
      "outputs": [
        {
          "data": {
            "text/plain": [
              "'c:\\\\Users\\\\sonia\\\\Documents\\\\VS Studio Projects\\\\US_Accidents_ML_Project'"
            ]
          },
          "execution_count": 3,
          "metadata": {},
          "output_type": "execute_result"
        }
      ],
      "source": [
        "current_dir = os.getcwd()\n",
        "current_dir"
      ]
    },
    {
      "cell_type": "markdown",
      "metadata": {},
      "source": [
        "---"
      ]
    },
    {
      "cell_type": "markdown",
      "metadata": {},
      "source": [
        "## Required Libraries"
      ]
    },
    {
      "cell_type": "code",
      "execution_count": 4,
      "metadata": {},
      "outputs": [],
      "source": [
        "import pandas as pd\n",
        "import numpy as np"
      ]
    },
    {
      "cell_type": "markdown",
      "metadata": {},
      "source": [
        "---"
      ]
    },
    {
      "cell_type": "markdown",
      "metadata": {
        "id": "-mavJ8DibrcQ"
      },
      "source": [
        "## Load the Dataset"
      ]
    },
    {
      "cell_type": "markdown",
      "metadata": {},
      "source": [
        "I will load the cleaned dataset using Pandas."
      ]
    },
    {
      "cell_type": "code",
      "execution_count": 6,
      "metadata": {},
      "outputs": [
        {
          "data": {
            "text/html": [
              "<div>\n",
              "<style scoped>\n",
              "    .dataframe tbody tr th:only-of-type {\n",
              "        vertical-align: middle;\n",
              "    }\n",
              "\n",
              "    .dataframe tbody tr th {\n",
              "        vertical-align: top;\n",
              "    }\n",
              "\n",
              "    .dataframe thead th {\n",
              "        text-align: right;\n",
              "    }\n",
              "</style>\n",
              "<table border=\"1\" class=\"dataframe\">\n",
              "  <thead>\n",
              "    <tr style=\"text-align: right;\">\n",
              "      <th></th>\n",
              "      <th>Severity</th>\n",
              "      <th>Start_Time</th>\n",
              "      <th>End_Time</th>\n",
              "      <th>Start_Lat</th>\n",
              "      <th>Start_Lng</th>\n",
              "      <th>Distance(mi)</th>\n",
              "      <th>City</th>\n",
              "      <th>County</th>\n",
              "      <th>State</th>\n",
              "      <th>Timezone</th>\n",
              "      <th>Airport_Code</th>\n",
              "      <th>Temperature(F)</th>\n",
              "      <th>Wind_Chill(F)</th>\n",
              "      <th>Humidity(%)</th>\n",
              "      <th>Pressure(in)</th>\n",
              "      <th>Visibility(mi)</th>\n",
              "      <th>Wind_Direction</th>\n",
              "      <th>Wind_Speed(mph)</th>\n",
              "      <th>Precipitation(in)</th>\n",
              "      <th>Weather_Condition</th>\n",
              "      <th>Amenity</th>\n",
              "      <th>Bump</th>\n",
              "      <th>Crossing</th>\n",
              "      <th>Give_Way</th>\n",
              "      <th>Junction</th>\n",
              "      <th>No_Exit</th>\n",
              "      <th>Railway</th>\n",
              "      <th>Roundabout</th>\n",
              "      <th>Station</th>\n",
              "      <th>Stop</th>\n",
              "      <th>Traffic_Calming</th>\n",
              "      <th>Traffic_Signal</th>\n",
              "      <th>Turning_Loop</th>\n",
              "      <th>Sunrise_Sunset</th>\n",
              "    </tr>\n",
              "  </thead>\n",
              "  <tbody>\n",
              "    <tr>\n",
              "      <th>0</th>\n",
              "      <td>2</td>\n",
              "      <td>2019-06-12 10:10:56</td>\n",
              "      <td>2019-06-12 10:55:58</td>\n",
              "      <td>30.641211</td>\n",
              "      <td>-91.153481</td>\n",
              "      <td>0.000</td>\n",
              "      <td>Zachary</td>\n",
              "      <td>East Baton Rouge</td>\n",
              "      <td>LA</td>\n",
              "      <td>US/Central</td>\n",
              "      <td>KBTR</td>\n",
              "      <td>77.0</td>\n",
              "      <td>77.0</td>\n",
              "      <td>62.0</td>\n",
              "      <td>29.92</td>\n",
              "      <td>10.0</td>\n",
              "      <td>NW</td>\n",
              "      <td>5.0</td>\n",
              "      <td>0.00</td>\n",
              "      <td>Fair</td>\n",
              "      <td>False</td>\n",
              "      <td>False</td>\n",
              "      <td>False</td>\n",
              "      <td>False</td>\n",
              "      <td>False</td>\n",
              "      <td>False</td>\n",
              "      <td>False</td>\n",
              "      <td>False</td>\n",
              "      <td>False</td>\n",
              "      <td>False</td>\n",
              "      <td>False</td>\n",
              "      <td>True</td>\n",
              "      <td>False</td>\n",
              "      <td>Day</td>\n",
              "    </tr>\n",
              "    <tr>\n",
              "      <th>1</th>\n",
              "      <td>2</td>\n",
              "      <td>2022-12-03 23:37:14.000000000</td>\n",
              "      <td>2022-12-04 01:56:53.000000000</td>\n",
              "      <td>38.990562</td>\n",
              "      <td>-77.399070</td>\n",
              "      <td>0.056</td>\n",
              "      <td>Sterling</td>\n",
              "      <td>Loudoun</td>\n",
              "      <td>VA</td>\n",
              "      <td>US/Eastern</td>\n",
              "      <td>KIAD</td>\n",
              "      <td>45.0</td>\n",
              "      <td>43.0</td>\n",
              "      <td>48.0</td>\n",
              "      <td>29.91</td>\n",
              "      <td>10.0</td>\n",
              "      <td>W</td>\n",
              "      <td>5.0</td>\n",
              "      <td>0.00</td>\n",
              "      <td>Fair</td>\n",
              "      <td>False</td>\n",
              "      <td>False</td>\n",
              "      <td>False</td>\n",
              "      <td>False</td>\n",
              "      <td>False</td>\n",
              "      <td>False</td>\n",
              "      <td>False</td>\n",
              "      <td>False</td>\n",
              "      <td>False</td>\n",
              "      <td>False</td>\n",
              "      <td>False</td>\n",
              "      <td>False</td>\n",
              "      <td>False</td>\n",
              "      <td>Night</td>\n",
              "    </tr>\n",
              "    <tr>\n",
              "      <th>2</th>\n",
              "      <td>2</td>\n",
              "      <td>2022-08-20 13:13:00.000000000</td>\n",
              "      <td>2022-08-20 15:22:45.000000000</td>\n",
              "      <td>34.661189</td>\n",
              "      <td>-120.492822</td>\n",
              "      <td>0.022</td>\n",
              "      <td>Lompoc</td>\n",
              "      <td>Santa Barbara</td>\n",
              "      <td>CA</td>\n",
              "      <td>US/Pacific</td>\n",
              "      <td>KLPC</td>\n",
              "      <td>68.0</td>\n",
              "      <td>68.0</td>\n",
              "      <td>73.0</td>\n",
              "      <td>29.79</td>\n",
              "      <td>10.0</td>\n",
              "      <td>W</td>\n",
              "      <td>13.0</td>\n",
              "      <td>0.00</td>\n",
              "      <td>Fair</td>\n",
              "      <td>False</td>\n",
              "      <td>False</td>\n",
              "      <td>False</td>\n",
              "      <td>False</td>\n",
              "      <td>False</td>\n",
              "      <td>False</td>\n",
              "      <td>False</td>\n",
              "      <td>False</td>\n",
              "      <td>False</td>\n",
              "      <td>False</td>\n",
              "      <td>False</td>\n",
              "      <td>True</td>\n",
              "      <td>False</td>\n",
              "      <td>Day</td>\n",
              "    </tr>\n",
              "    <tr>\n",
              "      <th>3</th>\n",
              "      <td>2</td>\n",
              "      <td>2022-02-21 17:43:04</td>\n",
              "      <td>2022-02-21 19:43:23</td>\n",
              "      <td>43.680592</td>\n",
              "      <td>-92.993317</td>\n",
              "      <td>1.054</td>\n",
              "      <td>Austin</td>\n",
              "      <td>Mower</td>\n",
              "      <td>MN</td>\n",
              "      <td>US/Central</td>\n",
              "      <td>KAUM</td>\n",
              "      <td>27.0</td>\n",
              "      <td>15.0</td>\n",
              "      <td>86.0</td>\n",
              "      <td>28.49</td>\n",
              "      <td>10.0</td>\n",
              "      <td>ENE</td>\n",
              "      <td>15.0</td>\n",
              "      <td>0.00</td>\n",
              "      <td>Wintry Mix</td>\n",
              "      <td>False</td>\n",
              "      <td>False</td>\n",
              "      <td>False</td>\n",
              "      <td>False</td>\n",
              "      <td>False</td>\n",
              "      <td>False</td>\n",
              "      <td>False</td>\n",
              "      <td>False</td>\n",
              "      <td>False</td>\n",
              "      <td>False</td>\n",
              "      <td>False</td>\n",
              "      <td>False</td>\n",
              "      <td>False</td>\n",
              "      <td>Day</td>\n",
              "    </tr>\n",
              "    <tr>\n",
              "      <th>4</th>\n",
              "      <td>2</td>\n",
              "      <td>2020-12-04 01:46:00</td>\n",
              "      <td>2020-12-04 04:13:09</td>\n",
              "      <td>35.395484</td>\n",
              "      <td>-118.985176</td>\n",
              "      <td>0.046</td>\n",
              "      <td>Bakersfield</td>\n",
              "      <td>Kern</td>\n",
              "      <td>CA</td>\n",
              "      <td>US/Pacific</td>\n",
              "      <td>KBFL</td>\n",
              "      <td>42.0</td>\n",
              "      <td>42.0</td>\n",
              "      <td>34.0</td>\n",
              "      <td>29.77</td>\n",
              "      <td>10.0</td>\n",
              "      <td>CALM</td>\n",
              "      <td>0.0</td>\n",
              "      <td>0.00</td>\n",
              "      <td>Fair</td>\n",
              "      <td>False</td>\n",
              "      <td>False</td>\n",
              "      <td>False</td>\n",
              "      <td>False</td>\n",
              "      <td>False</td>\n",
              "      <td>False</td>\n",
              "      <td>False</td>\n",
              "      <td>False</td>\n",
              "      <td>False</td>\n",
              "      <td>False</td>\n",
              "      <td>False</td>\n",
              "      <td>False</td>\n",
              "      <td>False</td>\n",
              "      <td>Night</td>\n",
              "    </tr>\n",
              "    <tr>\n",
              "      <th>...</th>\n",
              "      <td>...</td>\n",
              "      <td>...</td>\n",
              "      <td>...</td>\n",
              "      <td>...</td>\n",
              "      <td>...</td>\n",
              "      <td>...</td>\n",
              "      <td>...</td>\n",
              "      <td>...</td>\n",
              "      <td>...</td>\n",
              "      <td>...</td>\n",
              "      <td>...</td>\n",
              "      <td>...</td>\n",
              "      <td>...</td>\n",
              "      <td>...</td>\n",
              "      <td>...</td>\n",
              "      <td>...</td>\n",
              "      <td>...</td>\n",
              "      <td>...</td>\n",
              "      <td>...</td>\n",
              "      <td>...</td>\n",
              "      <td>...</td>\n",
              "      <td>...</td>\n",
              "      <td>...</td>\n",
              "      <td>...</td>\n",
              "      <td>...</td>\n",
              "      <td>...</td>\n",
              "      <td>...</td>\n",
              "      <td>...</td>\n",
              "      <td>...</td>\n",
              "      <td>...</td>\n",
              "      <td>...</td>\n",
              "      <td>...</td>\n",
              "      <td>...</td>\n",
              "      <td>...</td>\n",
              "    </tr>\n",
              "    <tr>\n",
              "      <th>336967</th>\n",
              "      <td>2</td>\n",
              "      <td>2021-12-15 07:30:00</td>\n",
              "      <td>2021-12-15 07:50:30</td>\n",
              "      <td>45.522510</td>\n",
              "      <td>-123.084104</td>\n",
              "      <td>0.158</td>\n",
              "      <td>Forest Grove</td>\n",
              "      <td>Washington</td>\n",
              "      <td>OR</td>\n",
              "      <td>US/Pacific</td>\n",
              "      <td>KHIO</td>\n",
              "      <td>40.0</td>\n",
              "      <td>32.0</td>\n",
              "      <td>77.0</td>\n",
              "      <td>29.55</td>\n",
              "      <td>10.0</td>\n",
              "      <td>SSE</td>\n",
              "      <td>15.0</td>\n",
              "      <td>0.01</td>\n",
              "      <td>Light Rain</td>\n",
              "      <td>False</td>\n",
              "      <td>False</td>\n",
              "      <td>False</td>\n",
              "      <td>False</td>\n",
              "      <td>False</td>\n",
              "      <td>False</td>\n",
              "      <td>False</td>\n",
              "      <td>False</td>\n",
              "      <td>False</td>\n",
              "      <td>False</td>\n",
              "      <td>False</td>\n",
              "      <td>False</td>\n",
              "      <td>False</td>\n",
              "      <td>Night</td>\n",
              "    </tr>\n",
              "    <tr>\n",
              "      <th>336968</th>\n",
              "      <td>2</td>\n",
              "      <td>2021-12-19 16:25:00</td>\n",
              "      <td>2021-12-19 17:40:37</td>\n",
              "      <td>26.702570</td>\n",
              "      <td>-80.111169</td>\n",
              "      <td>0.040</td>\n",
              "      <td>West Palm Beach</td>\n",
              "      <td>Palm Beach</td>\n",
              "      <td>FL</td>\n",
              "      <td>US/Eastern</td>\n",
              "      <td>KPBI</td>\n",
              "      <td>78.0</td>\n",
              "      <td>78.0</td>\n",
              "      <td>87.0</td>\n",
              "      <td>29.94</td>\n",
              "      <td>10.0</td>\n",
              "      <td>SSE</td>\n",
              "      <td>13.0</td>\n",
              "      <td>0.01</td>\n",
              "      <td>Partly Cloudy</td>\n",
              "      <td>False</td>\n",
              "      <td>False</td>\n",
              "      <td>False</td>\n",
              "      <td>False</td>\n",
              "      <td>False</td>\n",
              "      <td>False</td>\n",
              "      <td>False</td>\n",
              "      <td>False</td>\n",
              "      <td>False</td>\n",
              "      <td>False</td>\n",
              "      <td>False</td>\n",
              "      <td>False</td>\n",
              "      <td>False</td>\n",
              "      <td>Day</td>\n",
              "    </tr>\n",
              "    <tr>\n",
              "      <th>336969</th>\n",
              "      <td>2</td>\n",
              "      <td>2022-04-13 19:28:29</td>\n",
              "      <td>2022-04-13 21:33:44</td>\n",
              "      <td>34.561862</td>\n",
              "      <td>-112.259620</td>\n",
              "      <td>0.549</td>\n",
              "      <td>Dewey</td>\n",
              "      <td>Yavapai</td>\n",
              "      <td>AZ</td>\n",
              "      <td>US/Mountain</td>\n",
              "      <td>KPRC</td>\n",
              "      <td>52.0</td>\n",
              "      <td>52.0</td>\n",
              "      <td>12.0</td>\n",
              "      <td>24.94</td>\n",
              "      <td>10.0</td>\n",
              "      <td>WSW</td>\n",
              "      <td>12.0</td>\n",
              "      <td>0.00</td>\n",
              "      <td>Fair</td>\n",
              "      <td>False</td>\n",
              "      <td>False</td>\n",
              "      <td>True</td>\n",
              "      <td>True</td>\n",
              "      <td>False</td>\n",
              "      <td>False</td>\n",
              "      <td>False</td>\n",
              "      <td>False</td>\n",
              "      <td>False</td>\n",
              "      <td>False</td>\n",
              "      <td>False</td>\n",
              "      <td>True</td>\n",
              "      <td>False</td>\n",
              "      <td>Night</td>\n",
              "    </tr>\n",
              "    <tr>\n",
              "      <th>336970</th>\n",
              "      <td>3</td>\n",
              "      <td>2020-05-15 17:20:56</td>\n",
              "      <td>2020-05-15 17:50:56</td>\n",
              "      <td>38.406680</td>\n",
              "      <td>-78.619310</td>\n",
              "      <td>0.000</td>\n",
              "      <td>Elkton</td>\n",
              "      <td>Rockingham</td>\n",
              "      <td>VA</td>\n",
              "      <td>US/Eastern</td>\n",
              "      <td>KSHD</td>\n",
              "      <td>82.0</td>\n",
              "      <td>82.0</td>\n",
              "      <td>38.0</td>\n",
              "      <td>28.70</td>\n",
              "      <td>10.0</td>\n",
              "      <td>SSW</td>\n",
              "      <td>14.0</td>\n",
              "      <td>0.00</td>\n",
              "      <td>Fair</td>\n",
              "      <td>False</td>\n",
              "      <td>False</td>\n",
              "      <td>False</td>\n",
              "      <td>False</td>\n",
              "      <td>False</td>\n",
              "      <td>False</td>\n",
              "      <td>False</td>\n",
              "      <td>False</td>\n",
              "      <td>False</td>\n",
              "      <td>False</td>\n",
              "      <td>False</td>\n",
              "      <td>True</td>\n",
              "      <td>False</td>\n",
              "      <td>Day</td>\n",
              "    </tr>\n",
              "    <tr>\n",
              "      <th>336971</th>\n",
              "      <td>2</td>\n",
              "      <td>2022-04-02 23:23:13</td>\n",
              "      <td>2022-04-03 00:49:48</td>\n",
              "      <td>35.069358</td>\n",
              "      <td>-85.234410</td>\n",
              "      <td>0.086</td>\n",
              "      <td>Chattanooga</td>\n",
              "      <td>Hamilton</td>\n",
              "      <td>TN</td>\n",
              "      <td>US/Eastern</td>\n",
              "      <td>KCHA</td>\n",
              "      <td>50.0</td>\n",
              "      <td>50.0</td>\n",
              "      <td>66.0</td>\n",
              "      <td>29.29</td>\n",
              "      <td>10.0</td>\n",
              "      <td>CALM</td>\n",
              "      <td>0.0</td>\n",
              "      <td>0.00</td>\n",
              "      <td>Fair</td>\n",
              "      <td>False</td>\n",
              "      <td>False</td>\n",
              "      <td>False</td>\n",
              "      <td>False</td>\n",
              "      <td>False</td>\n",
              "      <td>False</td>\n",
              "      <td>False</td>\n",
              "      <td>False</td>\n",
              "      <td>False</td>\n",
              "      <td>False</td>\n",
              "      <td>False</td>\n",
              "      <td>False</td>\n",
              "      <td>False</td>\n",
              "      <td>Night</td>\n",
              "    </tr>\n",
              "  </tbody>\n",
              "</table>\n",
              "<p>336972 rows × 34 columns</p>\n",
              "</div>"
            ],
            "text/plain": [
              "        Severity                     Start_Time  \\\n",
              "0              2            2019-06-12 10:10:56   \n",
              "1              2  2022-12-03 23:37:14.000000000   \n",
              "2              2  2022-08-20 13:13:00.000000000   \n",
              "3              2            2022-02-21 17:43:04   \n",
              "4              2            2020-12-04 01:46:00   \n",
              "...          ...                            ...   \n",
              "336967         2            2021-12-15 07:30:00   \n",
              "336968         2            2021-12-19 16:25:00   \n",
              "336969         2            2022-04-13 19:28:29   \n",
              "336970         3            2020-05-15 17:20:56   \n",
              "336971         2            2022-04-02 23:23:13   \n",
              "\n",
              "                             End_Time  Start_Lat   Start_Lng  Distance(mi)  \\\n",
              "0                 2019-06-12 10:55:58  30.641211  -91.153481         0.000   \n",
              "1       2022-12-04 01:56:53.000000000  38.990562  -77.399070         0.056   \n",
              "2       2022-08-20 15:22:45.000000000  34.661189 -120.492822         0.022   \n",
              "3                 2022-02-21 19:43:23  43.680592  -92.993317         1.054   \n",
              "4                 2020-12-04 04:13:09  35.395484 -118.985176         0.046   \n",
              "...                               ...        ...         ...           ...   \n",
              "336967            2021-12-15 07:50:30  45.522510 -123.084104         0.158   \n",
              "336968            2021-12-19 17:40:37  26.702570  -80.111169         0.040   \n",
              "336969            2022-04-13 21:33:44  34.561862 -112.259620         0.549   \n",
              "336970            2020-05-15 17:50:56  38.406680  -78.619310         0.000   \n",
              "336971            2022-04-03 00:49:48  35.069358  -85.234410         0.086   \n",
              "\n",
              "                   City            County State     Timezone Airport_Code  \\\n",
              "0               Zachary  East Baton Rouge    LA   US/Central         KBTR   \n",
              "1              Sterling           Loudoun    VA   US/Eastern         KIAD   \n",
              "2                Lompoc     Santa Barbara    CA   US/Pacific         KLPC   \n",
              "3                Austin             Mower    MN   US/Central         KAUM   \n",
              "4           Bakersfield              Kern    CA   US/Pacific         KBFL   \n",
              "...                 ...               ...   ...          ...          ...   \n",
              "336967     Forest Grove        Washington    OR   US/Pacific         KHIO   \n",
              "336968  West Palm Beach        Palm Beach    FL   US/Eastern         KPBI   \n",
              "336969            Dewey           Yavapai    AZ  US/Mountain         KPRC   \n",
              "336970           Elkton        Rockingham    VA   US/Eastern         KSHD   \n",
              "336971      Chattanooga          Hamilton    TN   US/Eastern         KCHA   \n",
              "\n",
              "        Temperature(F)  Wind_Chill(F)  Humidity(%)  Pressure(in)  \\\n",
              "0                 77.0           77.0         62.0         29.92   \n",
              "1                 45.0           43.0         48.0         29.91   \n",
              "2                 68.0           68.0         73.0         29.79   \n",
              "3                 27.0           15.0         86.0         28.49   \n",
              "4                 42.0           42.0         34.0         29.77   \n",
              "...                ...            ...          ...           ...   \n",
              "336967            40.0           32.0         77.0         29.55   \n",
              "336968            78.0           78.0         87.0         29.94   \n",
              "336969            52.0           52.0         12.0         24.94   \n",
              "336970            82.0           82.0         38.0         28.70   \n",
              "336971            50.0           50.0         66.0         29.29   \n",
              "\n",
              "        Visibility(mi) Wind_Direction  Wind_Speed(mph)  Precipitation(in)  \\\n",
              "0                 10.0             NW              5.0               0.00   \n",
              "1                 10.0              W              5.0               0.00   \n",
              "2                 10.0              W             13.0               0.00   \n",
              "3                 10.0            ENE             15.0               0.00   \n",
              "4                 10.0           CALM              0.0               0.00   \n",
              "...                ...            ...              ...                ...   \n",
              "336967            10.0            SSE             15.0               0.01   \n",
              "336968            10.0            SSE             13.0               0.01   \n",
              "336969            10.0            WSW             12.0               0.00   \n",
              "336970            10.0            SSW             14.0               0.00   \n",
              "336971            10.0           CALM              0.0               0.00   \n",
              "\n",
              "       Weather_Condition  Amenity   Bump  Crossing  Give_Way  Junction  \\\n",
              "0                   Fair    False  False     False     False     False   \n",
              "1                   Fair    False  False     False     False     False   \n",
              "2                   Fair    False  False     False     False     False   \n",
              "3             Wintry Mix    False  False     False     False     False   \n",
              "4                   Fair    False  False     False     False     False   \n",
              "...                  ...      ...    ...       ...       ...       ...   \n",
              "336967        Light Rain    False  False     False     False     False   \n",
              "336968     Partly Cloudy    False  False     False     False     False   \n",
              "336969              Fair    False  False      True      True     False   \n",
              "336970              Fair    False  False     False     False     False   \n",
              "336971              Fair    False  False     False     False     False   \n",
              "\n",
              "        No_Exit  Railway  Roundabout  Station   Stop  Traffic_Calming  \\\n",
              "0         False    False       False    False  False            False   \n",
              "1         False    False       False    False  False            False   \n",
              "2         False    False       False    False  False            False   \n",
              "3         False    False       False    False  False            False   \n",
              "4         False    False       False    False  False            False   \n",
              "...         ...      ...         ...      ...    ...              ...   \n",
              "336967    False    False       False    False  False            False   \n",
              "336968    False    False       False    False  False            False   \n",
              "336969    False    False       False    False  False            False   \n",
              "336970    False    False       False    False  False            False   \n",
              "336971    False    False       False    False  False            False   \n",
              "\n",
              "        Traffic_Signal  Turning_Loop Sunrise_Sunset  \n",
              "0                 True         False            Day  \n",
              "1                False         False          Night  \n",
              "2                 True         False            Day  \n",
              "3                False         False            Day  \n",
              "4                False         False          Night  \n",
              "...                ...           ...            ...  \n",
              "336967           False         False          Night  \n",
              "336968           False         False            Day  \n",
              "336969            True         False          Night  \n",
              "336970            True         False            Day  \n",
              "336971           False         False          Night  \n",
              "\n",
              "[336972 rows x 34 columns]"
            ]
          },
          "execution_count": 6,
          "metadata": {},
          "output_type": "execute_result"
        }
      ],
      "source": [
        "df = pd.read_csv(\"Data/Cleaned/US_Accidents_For_Subsampling.csv\")\n",
        "pd.set_option(\"display.max_columns\", None)\n",
        "df"
      ]
    },
    {
      "cell_type": "markdown",
      "metadata": {
        "id": "ZY3l0-AxO93d"
      },
      "source": [
        "---"
      ]
    },
    {
      "cell_type": "markdown",
      "metadata": {
        "id": "uFQo3ycuO-v6"
      },
      "source": [
        "## Create Target Column"
      ]
    },
    {
      "cell_type": "markdown",
      "metadata": {},
      "source": [
        "The target for my future machine learning model will be \"Clearance_Class\". This is a column I will derive from the variables \"Start_Time\" and \"End_Time\", which currently have the data type as \"object\". First, I will change both data types to \"datetime\", then derive the column \"Clearance_Time(hr) by subtracting \"End_Time\" from \"Start_Time\". Then I will derive \"Clearance_Class\" from \"Clearance_Time(hr).  "
      ]
    },
    {
      "cell_type": "markdown",
      "metadata": {},
      "source": [
        "To derive \"Clearance_Time(hr)\":"
      ]
    },
    {
      "cell_type": "code",
      "execution_count": 7,
      "metadata": {},
      "outputs": [
        {
          "data": {
            "text/plain": [
              "0         0.750556\n",
              "1         2.327500\n",
              "2         2.162500\n",
              "3         2.005278\n",
              "4         2.452500\n",
              "            ...   \n",
              "336967    0.341667\n",
              "336968    1.260278\n",
              "336969    2.087500\n",
              "336970    0.500000\n",
              "336971    1.443056\n",
              "Name: Clearance_Time(hr), Length: 336972, dtype: float64"
            ]
          },
          "execution_count": 7,
          "metadata": {},
          "output_type": "execute_result"
        }
      ],
      "source": [
        "df[\"Start_Time\"] = pd.to_datetime(df[\"Start_Time\"], format=\"mixed\")\n",
        "df[\"End_Time\"]   = pd.to_datetime(df[\"End_Time\"], format=\"mixed\")\n",
        "\n",
        "df[\"Clearance_Time(hr)\"] = (df[\"End_Time\"] - df[\"Start_Time\"]).dt.total_seconds() / 3600\n",
        "\n",
        "df[\"Clearance_Time(hr)\"]"
      ]
    },
    {
      "cell_type": "markdown",
      "metadata": {},
      "source": [
        "---"
      ]
    },
    {
      "cell_type": "markdown",
      "metadata": {},
      "source": [
        "NOTE"
      ]
    },
    {
      "cell_type": "markdown",
      "metadata": {},
      "source": [
        "* You may add as many sections as you want, as long as it supports your project workflow.\n",
        "* All notebook's cells should be run top-down (you can't create a dynamic wherein a given point you need to go back to a previous cell to execute some task, like go back to a previous cell and refresh a variable content)"
      ]
    },
    {
      "cell_type": "markdown",
      "metadata": {},
      "source": [
        "---"
      ]
    },
    {
      "cell_type": "markdown",
      "metadata": {
        "id": "ltNetd085qHf"
      },
      "source": [
        "# Push files to Repo"
      ]
    },
    {
      "cell_type": "markdown",
      "metadata": {},
      "source": [
        "* In cases where you don't need to push files to Repo, you may replace this section with \"Conclusions and Next Steps\" and state your conclusions and next steps."
      ]
    }
  ],
  "metadata": {
    "accelerator": "GPU",
    "colab": {
      "name": "Data Practitioner Jupyter Notebook.ipynb",
      "provenance": [],
      "toc_visible": true
    },
    "kernelspec": {
      "display_name": ".venv (3.12.8)",
      "language": "python",
      "name": "python3"
    },
    "language_info": {
      "codemirror_mode": {
        "name": "ipython",
        "version": 3
      },
      "file_extension": ".py",
      "mimetype": "text/x-python",
      "name": "python",
      "nbconvert_exporter": "python",
      "pygments_lexer": "ipython3",
      "version": "3.12.8"
    },
    "orig_nbformat": 2
  },
  "nbformat": 4,
  "nbformat_minor": 2
}
